{
 "cells": [
  {
   "cell_type": "code",
   "execution_count": 1,
   "metadata": {
    "id": "ZIkPbbVqQlB2"
   },
   "outputs": [
    {
     "name": "stdout",
     "output_type": "stream",
     "text": [
      "Requirement already satisfied: prophet in c:\\users\\symia\\anaconda3\\lib\\site-packages (1.1.5)\n",
      "Requirement already satisfied: cmdstanpy>=1.0.4 in c:\\users\\symia\\anaconda3\\lib\\site-packages (from prophet) (1.2.4)\n",
      "Requirement already satisfied: numpy>=1.15.4 in c:\\users\\symia\\anaconda3\\lib\\site-packages (from prophet) (1.26.4)\n",
      "Requirement already satisfied: matplotlib>=2.0.0 in c:\\users\\symia\\anaconda3\\lib\\site-packages (from prophet) (3.8.4)\n",
      "Requirement already satisfied: pandas>=1.0.4 in c:\\users\\symia\\anaconda3\\lib\\site-packages (from prophet) (2.1.4)\n",
      "Requirement already satisfied: holidays>=0.25 in c:\\users\\symia\\anaconda3\\lib\\site-packages (from prophet) (0.53)\n",
      "Requirement already satisfied: tqdm>=4.36.1 in c:\\users\\symia\\anaconda3\\lib\\site-packages (from prophet) (4.65.0)\n",
      "Requirement already satisfied: importlib-resources in c:\\users\\symia\\anaconda3\\lib\\site-packages (from prophet) (6.4.0)\n",
      "Requirement already satisfied: stanio<2.0.0,>=0.4.0 in c:\\users\\symia\\anaconda3\\lib\\site-packages (from cmdstanpy>=1.0.4->prophet) (0.5.1)\n",
      "Requirement already satisfied: python-dateutil in c:\\users\\symia\\anaconda3\\lib\\site-packages (from holidays>=0.25->prophet) (2.8.2)\n",
      "Requirement already satisfied: contourpy>=1.0.1 in c:\\users\\symia\\anaconda3\\lib\\site-packages (from matplotlib>=2.0.0->prophet) (1.2.0)\n",
      "Requirement already satisfied: cycler>=0.10 in c:\\users\\symia\\anaconda3\\lib\\site-packages (from matplotlib>=2.0.0->prophet) (0.11.0)\n",
      "Requirement already satisfied: fonttools>=4.22.0 in c:\\users\\symia\\anaconda3\\lib\\site-packages (from matplotlib>=2.0.0->prophet) (4.25.0)\n",
      "Requirement already satisfied: kiwisolver>=1.3.1 in c:\\users\\symia\\anaconda3\\lib\\site-packages (from matplotlib>=2.0.0->prophet) (1.4.4)\n",
      "Requirement already satisfied: packaging>=20.0 in c:\\users\\symia\\anaconda3\\lib\\site-packages (from matplotlib>=2.0.0->prophet) (23.1)\n",
      "Requirement already satisfied: pillow>=8 in c:\\users\\symia\\anaconda3\\lib\\site-packages (from matplotlib>=2.0.0->prophet) (10.2.0)\n",
      "Requirement already satisfied: pyparsing>=2.3.1 in c:\\users\\symia\\anaconda3\\lib\\site-packages (from matplotlib>=2.0.0->prophet) (3.0.9)\n",
      "Requirement already satisfied: pytz>=2020.1 in c:\\users\\symia\\anaconda3\\lib\\site-packages (from pandas>=1.0.4->prophet) (2023.3.post1)\n",
      "Requirement already satisfied: tzdata>=2022.1 in c:\\users\\symia\\anaconda3\\lib\\site-packages (from pandas>=1.0.4->prophet) (2023.3)\n",
      "Requirement already satisfied: colorama in c:\\users\\symia\\anaconda3\\lib\\site-packages (from tqdm>=4.36.1->prophet) (0.4.6)\n",
      "Requirement already satisfied: six>=1.5 in c:\\users\\symia\\anaconda3\\lib\\site-packages (from python-dateutil->holidays>=0.25->prophet) (1.16.0)\n"
     ]
    }
   ],
   "source": [
    "# Import dependencies\n",
    "import pandas as pd\n",
    "from prophet import Prophet\n",
    "import datetime as dt\n",
    "import numpy as np\n",
    "%matplotlib inline\n",
    "\n",
    "# Import libraries\n",
    "#!pip install prophet\n",
    "\n",
    "\n"
   ]
  },
  {
   "cell_type": "code",
   "execution_count": null,
   "metadata": {
    "id": "DmL126FnR9iF"
   },
   "outputs": [],
   "source": [
    "# Read in the csv data\n",
    "df_doordash = pd.read_csv(\n",
    "    \"\",\n",
    "    index_col='Date',\n",
    "    parse_dates=True\n",
    ").dropna()"
   ]
  },
  {
   "cell_type": "code",
   "execution_count": null,
   "metadata": {
    "id": "CQhrB8oDR-wP"
   },
   "outputs": [],
   "source": [
    "# Simple plot of the data\n",
    "df_doordash.plot()"
   ]
  },
  {
   "cell_type": "code",
   "execution_count": null,
   "metadata": {
    "id": "YCCy0Z19cj51"
   },
   "outputs": [],
   "source": [
    "# Plot each column on a separate axes. There will be multiple plots depending on number of columns\n",
    "df_doordash.plot(subplots=True)"
   ]
  },
  {
   "cell_type": "code",
   "execution_count": null,
   "metadata": {
    "id": "PcM-E2b2dPnp"
   },
   "outputs": [],
   "source": [
    "# Reset the index so the date information is no longer the index\n",
    "df_doordash = df_doordash.reset_index()\n",
    "\n",
    "# Label the columns ds and y so that the syntax is recognized by Prophet\n",
    "df_doordash.columns = [\"ds\",\"y\"]"
   ]
  },
  {
   "cell_type": "code",
   "execution_count": null,
   "metadata": {
    "id": "VLH27zKwdcj6"
   },
   "outputs": [],
   "source": [
    "# Call the Prophet function, store as an object\n",
    "m = Prophet()\n",
    "m"
   ]
  },
  {
   "cell_type": "code",
   "execution_count": null,
   "metadata": {
    "id": "oH3cy8tqdgmT"
   },
   "outputs": [],
   "source": [
    "# Fit the time-series model.\n",
    "m.fit(df_doordash)"
   ]
  },
  {
   "cell_type": "code",
   "execution_count": null,
   "metadata": {
    "id": "FXZN3u-0ebMC"
   },
   "outputs": [],
   "source": [
    "# Create a future dataframe to hold predictions\n",
    "# Make the prediction go out as far as 2000 hours (approx 80 days)\n",
    "future_doordash = m.make_future_dataframe(periods=2000, freq=\"H\")"
   ]
  },
  {
   "cell_type": "code",
   "execution_count": null,
   "metadata": {
    "id": "24R61bE6ezQk"
   },
   "outputs": [],
   "source": [
    "# Make the predictions for the trend data using the DataFrame\n",
    "forecast_doordash = m.predict(future_doordash)"
   ]
  },
  {
   "cell_type": "code",
   "execution_count": null,
   "metadata": {
    "id": "Y6a_BdjOfE9-"
   },
   "outputs": [],
   "source": [
    "# Plot the Prophet predictions for the Mercado trends data\n",
    "m.plot(forecast_doordash, include_legend=True)"
   ]
  },
  {
   "cell_type": "code",
   "execution_count": null,
   "metadata": {
    "id": "ltUIHXX4hAcw"
   },
   "outputs": [],
   "source": [
    "# Reset the index in the forecast_doordash DataFrame\n",
    "forecast_doordash = forecast_doordash.reset_index()\n",
    "\n",
    "# Use the plot_components function to visualize the forecast results\n",
    "# for the forecast_doordash DataFrame\n",
    "fig1 = m.plot_components(forecast_doordash)"
   ]
  }
 ],
 "metadata": {
  "colab": {
   "provenance": []
  },
  "kernelspec": {
   "display_name": "Python 3 (ipykernel)",
   "language": "python",
   "name": "python3"
  },
  "language_info": {
   "codemirror_mode": {
    "name": "ipython",
    "version": 3
   },
   "file_extension": ".py",
   "mimetype": "text/x-python",
   "name": "python",
   "nbconvert_exporter": "python",
   "pygments_lexer": "ipython3",
   "version": "3.11.7"
  }
 },
 "nbformat": 4,
 "nbformat_minor": 4
}
