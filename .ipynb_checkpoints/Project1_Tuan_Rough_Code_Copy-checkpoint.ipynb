{
 "cells": [
  {
   "cell_type": "code",
   "execution_count": null,
   "metadata": {
    "id": "ZIkPbbVqQlB2"
   },
   "outputs": [],
   "source": [
    "# Import dependencies\n",
    "import pandas as pd\n",
    "from prophet import Prophet\n",
    "import datetime as dt\n",
    "import numpy as np\n",
    "%matplotlib inline\n",
    "\n",
    "# Import libraries\n",
    "!pip install prophet\n",
    "\n",
    "\n"
   ]
  },
  {
   "cell_type": "code",
   "execution_count": null,
   "metadata": {
    "id": "DmL126FnR9iF"
   },
   "outputs": [],
   "source": [
    "# Read in the csv data\n",
    "df_doordash = pd.read_csv(\n",
    "    \"\",\n",
    "    index_col='Date',\n",
    "    parse_dates=True\n",
    ").dropna()"
   ]
  },
  {
   "cell_type": "code",
   "execution_count": null,
   "metadata": {
    "id": "CQhrB8oDR-wP"
   },
   "outputs": [],
   "source": [
    "# Simple plot of the data\n",
    "df_doordash.plot()"
   ]
  },
  {
   "cell_type": "code",
   "execution_count": null,
   "metadata": {
    "id": "YCCy0Z19cj51"
   },
   "outputs": [],
   "source": [
    "# Plot each column on a separate axes. There will be multiple plots depending on number of columns\n",
    "df_doordash.plot(subplots=True)"
   ]
  },
  {
   "cell_type": "code",
   "execution_count": null,
   "metadata": {
    "id": "PcM-E2b2dPnp"
   },
   "outputs": [],
   "source": [
    "# Reset the index so the date information is no longer the index\n",
    "df_doordash = df_doordash.reset_index()\n",
    "\n",
    "# Label the columns ds and y so that the syntax is recognized by Prophet\n",
    "df_doordash.columns = [\"ds\",\"y\"]"
   ]
  },
  {
   "cell_type": "code",
   "execution_count": null,
   "metadata": {
    "id": "VLH27zKwdcj6"
   },
   "outputs": [],
   "source": [
    "# Call the Prophet function, store as an object\n",
    "m = Prophet()\n",
    "m"
   ]
  },
  {
   "cell_type": "code",
   "execution_count": null,
   "metadata": {
    "id": "oH3cy8tqdgmT"
   },
   "outputs": [],
   "source": [
    "# Fit the time-series model.\n",
    "m.fit(df_doordash)"
   ]
  },
  {
   "cell_type": "code",
   "execution_count": null,
   "metadata": {
    "id": "FXZN3u-0ebMC"
   },
   "outputs": [],
   "source": [
    "# Create a future dataframe to hold predictions\n",
    "# Make the prediction go out as far as 2000 hours (approx 80 days)\n",
    "future_doordash = m.make_future_dataframe(periods=2000, freq=\"H\")"
   ]
  },
  {
   "cell_type": "code",
   "execution_count": null,
   "metadata": {
    "id": "24R61bE6ezQk"
   },
   "outputs": [],
   "source": [
    "# Make the predictions for the trend data using the DataFrame\n",
    "forecast_doordash = m.predict(future_doordash)"
   ]
  },
  {
   "cell_type": "code",
   "execution_count": null,
   "metadata": {
    "id": "Y6a_BdjOfE9-"
   },
   "outputs": [],
   "source": [
    "# Plot the Prophet predictions for the Mercado trends data\n",
    "m.plot(forecast_doordash, include_legend=True)"
   ]
  },
  {
   "cell_type": "code",
   "execution_count": null,
   "metadata": {
    "id": "ltUIHXX4hAcw"
   },
   "outputs": [],
   "source": [
    "# Reset the index in the forecast_doordash DataFrame\n",
    "forecast_doordash = forecast_doordash.reset_index()\n",
    "\n",
    "# Use the plot_components function to visualize the forecast results\n",
    "# for the forecast_doordash DataFrame\n",
    "fig1 = m.plot_components(forecast_doordash)"
   ]
  }
 ],
 "metadata": {
  "colab": {
   "provenance": []
  },
  "kernelspec": {
   "display_name": "Python 3 (ipykernel)",
   "language": "python",
   "name": "python3"
  },
  "language_info": {
   "codemirror_mode": {
    "name": "ipython",
    "version": 3
   },
   "file_extension": ".py",
   "mimetype": "text/x-python",
   "name": "python",
   "nbconvert_exporter": "python",
   "pygments_lexer": "ipython3",
   "version": "3.11.7"
  }
 },
 "nbformat": 4,
 "nbformat_minor": 4
}
