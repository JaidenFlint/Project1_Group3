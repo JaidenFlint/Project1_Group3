{
  "nbformat": 4,
  "nbformat_minor": 0,
  "metadata": {
    "colab": {
      "provenance": []
    },
    "kernelspec": {
      "name": "python3",
      "display_name": "Python 3"
    },
    "language_info": {
      "name": "python"
    }
  },
  "cells": [
    {
      "cell_type": "code",
      "execution_count": null,
      "metadata": {
        "id": "ZIkPbbVqQlB2"
      },
      "outputs": [],
      "source": [
        "# Import dependencies\n",
        "import pandas as pd\n",
        "from prophet import Prophet\n",
        "import datetime as dt\n",
        "import numpy as np\n",
        "%matplotlib inline\n",
        "\n",
        "# Import libraries\n",
        "!pip install prophet\n",
        "\n",
        "\n"
      ]
    },
    {
      "cell_type": "code",
      "source": [
        "# Read in the csv data\n",
        "df_doordash = pd.read_csv(\n",
        "    \"\",\n",
        "    index_col='Date',\n",
        "    parse_dates=True\n",
        ").dropna()"
      ],
      "metadata": {
        "id": "DmL126FnR9iF"
      },
      "execution_count": null,
      "outputs": []
    },
    {
      "cell_type": "code",
      "source": [
        "# Simple plot of the data\n",
        "df_doordash.plot()"
      ],
      "metadata": {
        "id": "CQhrB8oDR-wP"
      },
      "execution_count": null,
      "outputs": []
    },
    {
      "cell_type": "code",
      "source": [
        "# Plot each column on a separate axes. There will be multiple plots depending on number of columns\n",
        "df_doordash.plot(subplots=True)"
      ],
      "metadata": {
        "id": "YCCy0Z19cj51"
      },
      "execution_count": null,
      "outputs": []
    },
    {
      "cell_type": "code",
      "source": [
        "# Reset the index so the date information is no longer the index\n",
        "df_doordash = df_doordash.reset_index()\n",
        "\n",
        "# Label the columns ds and y so that the syntax is recognized by Prophet\n",
        "df_doordash.columns = [\"ds\",\"y\"]"
      ],
      "metadata": {
        "id": "PcM-E2b2dPnp"
      },
      "execution_count": null,
      "outputs": []
    },
    {
      "cell_type": "code",
      "source": [
        "# Call the Prophet function, store as an object\n",
        "m = Prophet()\n",
        "m"
      ],
      "metadata": {
        "id": "VLH27zKwdcj6"
      },
      "execution_count": null,
      "outputs": []
    },
    {
      "cell_type": "code",
      "source": [
        "# Fit the time-series model.\n",
        "m.fit(df_doordash)"
      ],
      "metadata": {
        "id": "oH3cy8tqdgmT"
      },
      "execution_count": null,
      "outputs": []
    },
    {
      "cell_type": "code",
      "source": [
        "# Create a future dataframe to hold predictions\n",
        "# Make the prediction go out as far as 2000 hours (approx 80 days)\n",
        "future_doordash = m.make_future_dataframe(periods=2000, freq=\"H\")"
      ],
      "metadata": {
        "id": "FXZN3u-0ebMC"
      },
      "execution_count": null,
      "outputs": []
    },
    {
      "cell_type": "code",
      "source": [
        "# Make the predictions for the trend data using the DataFrame\n",
        "forecast_doordash = m.predict(future_doordash)"
      ],
      "metadata": {
        "id": "24R61bE6ezQk"
      },
      "execution_count": null,
      "outputs": []
    },
    {
      "cell_type": "code",
      "source": [
        "# Plot the Prophet predictions for the Mercado trends data\n",
        "m.plot(forecast_doordash, include_legend=True)"
      ],
      "metadata": {
        "id": "Y6a_BdjOfE9-"
      },
      "execution_count": null,
      "outputs": []
    },
    {
      "cell_type": "code",
      "source": [
        "# Reset the index in the forecast_doordash DataFrame\n",
        "forecast_doordash = forecast_doordash.reset_index()\n",
        "\n",
        "# Use the plot_components function to visualize the forecast results\n",
        "# for the forecast_doordash DataFrame\n",
        "fig1 = m.plot_components(forecast_doordash)"
      ],
      "metadata": {
        "id": "ltUIHXX4hAcw"
      },
      "execution_count": null,
      "outputs": []
    }
  ]
}